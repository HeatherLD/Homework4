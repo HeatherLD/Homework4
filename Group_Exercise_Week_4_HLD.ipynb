{
 "cells": [
  {
   "cell_type": "code",
   "execution_count": 15,
   "id": "173fbf75",
   "metadata": {},
   "outputs": [],
   "source": [
    "import pandas as pd"
   ]
  },
  {
   "cell_type": "code",
   "execution_count": 28,
   "id": "6b0882cc",
   "metadata": {},
   "outputs": [
    {
     "name": "stdout",
     "output_type": "stream",
     "text": [
      "<class 'pandas.core.frame.DataFrame'>\n"
     ]
    }
   ],
   "source": [
    "#(1)\n",
    "belize_listings_path = \"belize_airbnb_listings.csv\"\n",
    "belize_df = pd.read_csv(belize_listings_path)\n",
    "\n",
    "print(type(belize_df))"
   ]
  },
  {
   "cell_type": "code",
   "execution_count": 42,
   "id": "b5d6a2fd",
   "metadata": {},
   "outputs": [],
   "source": [
    "grouped_nbhd_df = belize_df.groupby('neighbourhood')"
   ]
  },
  {
   "cell_type": "code",
   "execution_count": 43,
   "id": "ccf3d40e",
   "metadata": {},
   "outputs": [
    {
     "data": {
      "text/plain": [
       "neighbourhood\n",
       "Belize Islands           399.442824\n",
       "Belize Mainland          288.273063\n",
       "Cayo                     205.847525\n",
       "Corozal                  156.553846\n",
       "Orange Walk              122.035714\n",
       "Stann Creek Islands     1136.166667\n",
       "Stann Creek Mainland     456.994690\n",
       "Toledo Mainland          222.978723\n",
       "Name: price, dtype: float64"
      ]
     },
     "execution_count": 43,
     "metadata": {},
     "output_type": "execute_result"
    }
   ],
   "source": [
    "grouped_nbhd_df[\"price\"].mean()"
   ]
  },
  {
   "cell_type": "code",
   "execution_count": 44,
   "id": "6da438d3",
   "metadata": {},
   "outputs": [
    {
     "data": {
      "text/plain": [
       "neighbourhood\n",
       "Belize Islands          22995\n",
       "Belize Mainland          4105\n",
       "Cayo                     7356\n",
       "Corozal                   492\n",
       "Orange Walk               415\n",
       "Stann Creek Islands        69\n",
       "Stann Creek Mainland     4786\n",
       "Toledo Mainland           194\n",
       "Name: number_of_reviews, dtype: int64"
      ]
     },
     "execution_count": 44,
     "metadata": {},
     "output_type": "execute_result"
    }
   ],
   "source": [
    "grouped_nbhd_df[\"number_of_reviews\"].sum()"
   ]
  },
  {
   "cell_type": "code",
   "execution_count": 46,
   "id": "53acfc2b",
   "metadata": {},
   "outputs": [
    {
     "data": {
      "text/plain": [
       "neighbourhood\n",
       "Belize Islands          365\n",
       "Belize Mainland         365\n",
       "Cayo                    365\n",
       "Corozal                 365\n",
       "Orange Walk             365\n",
       "Stann Creek Islands     365\n",
       "Stann Creek Mainland    365\n",
       "Toledo Mainland         365\n",
       "Name: availability_365, dtype: int64"
      ]
     },
     "execution_count": 46,
     "metadata": {},
     "output_type": "execute_result"
    }
   ],
   "source": [
    "grouped_nbhd_df[\"availability_365\"].max()"
   ]
  },
  {
   "cell_type": "code",
   "execution_count": 47,
   "id": "09ebb5e6",
   "metadata": {},
   "outputs": [
    {
     "name": "stdout",
     "output_type": "stream",
     "text": [
      "[4, 16, 36, 64, 100, 144, 196]\n"
     ]
    }
   ],
   "source": [
    "#(2)\n",
    "og_list = [2,4,6,8,10,12,14]\n",
    "sq_list = [number **2 for number in og_list]\n",
    "print(sq_list)"
   ]
  },
  {
   "cell_type": "code",
   "execution_count": 48,
   "id": "76677975",
   "metadata": {},
   "outputs": [
    {
     "name": "stdout",
     "output_type": "stream",
     "text": [
      "[1.3333333333333333, 2.6666666666666665, 4.0, 5.333333333333333, 6.666666666666666, 8.0, 9.333333333333332]\n"
     ]
    }
   ],
   "source": [
    "two_thirds_list = [number *(2/3) for number in og_list]\n",
    "print(two_thirds_list)"
   ]
  },
  {
   "cell_type": "code",
   "execution_count": 53,
   "id": "9272af20",
   "metadata": {},
   "outputs": [
    {
     "name": "stdout",
     "output_type": "stream",
     "text": [
      "{'apples': 1500, 'cranberries': 2000, 'pears': 2500, 'cherries': 1600, 'plums': 2400, 'peaches': 13600, 'oranges': 7}\n"
     ]
    }
   ],
   "source": [
    "#(3)\n",
    "dict = {\"Apples\":1500, \"Cranberries\":2000, \"Pears\":2500, \"Cherries\": 1600, \"Plums\": 2400, \"Peaches\":13600, \"Oranges\":7}\n",
    "lc_dict = {k.lower(): v for k, v in dict.items()}\n",
    "print(lc_dict)"
   ]
  },
  {
   "cell_type": "markdown",
   "id": "d280d67d",
   "metadata": {},
   "source": [
    "I chose to do a list comprehension because it seems more straightforward than writing out a function."
   ]
  }
 ],
 "metadata": {
  "kernelspec": {
   "display_name": "Python 3 (ipykernel)",
   "language": "python",
   "name": "python3"
  },
  "language_info": {
   "codemirror_mode": {
    "name": "ipython",
    "version": 3
   },
   "file_extension": ".py",
   "mimetype": "text/x-python",
   "name": "python",
   "nbconvert_exporter": "python",
   "pygments_lexer": "ipython3",
   "version": "3.9.7"
  }
 },
 "nbformat": 4,
 "nbformat_minor": 5
}
